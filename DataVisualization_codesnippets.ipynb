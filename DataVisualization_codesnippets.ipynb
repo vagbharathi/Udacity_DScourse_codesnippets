{
 "cells": [
  {
   "cell_type": "code",
   "execution_count": null,
   "metadata": {},
   "outputs": [],
   "source": [
    "# DATA VISUALIZATION\n",
    "\n",
    "# plotting in Python\n",
    "    from pandas import *\n",
    "    from ggplot import *\n",
    "\n",
    "    import pandas\n",
    "\n",
    "    def lineplot(hr_year_csv):\n",
    "    \n",
    "    hr_year = pandas.read_csv('hr_year.csv')\n",
    "    gg = ggplot(hr_year, aes('yearID', 'HR')) + geom_point(color='red') + \\\n",
    "        geom_line(color='red') + ggtitle('Total HRs by year') + xlab('Years') + ylab('HR')\n",
    "    \n",
    "    return gg\n",
    "\n",
    "# plotting line charts\n",
    "    import pandas\n",
    "\n",
    "    from ggplot import *\n",
    "\n",
    "    def lineplot_compare(hr_by_team_year_sf_la_csv):\n",
    "        \n",
    "    hr_year = pandas.read_csv('hr_by_team_year_sf_la.csv')\n",
    "    gg = ggplot(hr_year, aes('yearID','HR', color='teamID')) + geom_point() + geom_line() + \\\n",
    "    ggtitle('Total HRs by year') +xlab('Year') + ylab('HR')\n",
    "    \n",
    "    return gg\n"
   ]
  }
 ],
 "metadata": {
  "kernelspec": {
   "display_name": "Python 3",
   "language": "python",
   "name": "python3"
  },
  "language_info": {
   "codemirror_mode": {
    "name": "ipython",
    "version": 3
   },
   "file_extension": ".py",
   "mimetype": "text/x-python",
   "name": "python",
   "nbconvert_exporter": "python",
   "pygments_lexer": "ipython3",
   "version": "3.7.4"
  }
 },
 "nbformat": 4,
 "nbformat_minor": 2
}
